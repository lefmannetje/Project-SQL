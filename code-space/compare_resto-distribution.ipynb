{
 "cells": [
  {
   "cell_type": "markdown",
   "metadata": {},
   "source": [
    "#### Compare restaurant distributions across UberEats, Deliveroo, and Takeaway. What are some of the market trends?"
   ]
  },
  {
   "cell_type": "markdown",
   "metadata": {},
   "source": [
    "##### preparing database settings"
   ]
  },
  {
   "cell_type": "code",
   "execution_count": 6,
   "metadata": {},
   "outputs": [
    {
     "name": "stdout",
     "output_type": "stream",
     "text": [
      "Attached Databases:\n",
      "(0, 'main', 'C:\\\\repos\\\\Project-SQL\\\\databases\\\\deliveroo.db')\n",
      "(2, 'ubereats_db', 'C:\\\\repos\\\\Project-SQL\\\\databases\\\\ubereats.db')\n",
      "(3, 'takeaway_db', 'C:\\\\repos\\\\Project-SQL\\\\databases\\\\takeaway.db')\n"
     ]
    }
   ],
   "source": [
    "#prepare database connections\n",
    "\n",
    "import sqlite3\n",
    "import pandas as pd\n",
    "\n",
    "# Paths to your databases\n",
    "deliveroo_db_path = \"C:\\\\repos\\Project-SQL\\\\databases\\\\deliveroo.db\"\n",
    "ubereats_db_path = \"C:\\\\repos\\Project-SQL\\\\databases\\\\ubereats.db\"\n",
    "takeaway_db_path = \"C:\\\\repos\\Project-SQL\\\\databases\\\\takeaway.db\"\n",
    "\n",
    "# Connect to the Deliveroo database\n",
    "conn = sqlite3.connect(deliveroo_db_path)\n",
    "\n",
    "# Attach the other databases\n",
    "conn.execute(f\"ATTACH DATABASE '{ubereats_db_path}' AS ubereats_db;\")\n",
    "conn.execute(f\"ATTACH DATABASE '{takeaway_db_path}' AS takeaway_db;\")\n",
    "\n",
    "# Check attached databases\n",
    "cursor = conn.cursor()  # Initialize the cursor\n",
    "cursor.execute(\"PRAGMA database_list;\")\n",
    "print(\"Attached Databases:\")\n",
    "for row in cursor.fetchall():\n",
    "    print(row)\n"
   ]
  },
  {
   "cell_type": "markdown",
   "metadata": {},
   "source": [
    "##### Executing query"
   ]
  },
  {
   "cell_type": "code",
   "execution_count": 7,
   "metadata": {},
   "outputs": [
    {
     "data": {
      "text/html": [
       "<div>\n",
       "<style scoped>\n",
       "    .dataframe tbody tr th:only-of-type {\n",
       "        vertical-align: middle;\n",
       "    }\n",
       "\n",
       "    .dataframe tbody tr th {\n",
       "        vertical-align: top;\n",
       "    }\n",
       "\n",
       "    .dataframe thead th {\n",
       "        text-align: right;\n",
       "    }\n",
       "</style>\n",
       "<table border=\"1\" class=\"dataframe\">\n",
       "  <thead>\n",
       "    <tr style=\"text-align: right;\">\n",
       "      <th></th>\n",
       "      <th>platform</th>\n",
       "      <th>restaurant_count</th>\n",
       "    </tr>\n",
       "  </thead>\n",
       "  <tbody>\n",
       "    <tr>\n",
       "      <th>0</th>\n",
       "      <td>Deliveroo</td>\n",
       "      <td>2716</td>\n",
       "    </tr>\n",
       "    <tr>\n",
       "      <th>1</th>\n",
       "      <td>UberEats</td>\n",
       "      <td>2729</td>\n",
       "    </tr>\n",
       "    <tr>\n",
       "      <th>2</th>\n",
       "      <td>Takeaway</td>\n",
       "      <td>4071</td>\n",
       "    </tr>\n",
       "  </tbody>\n",
       "</table>\n",
       "</div>"
      ],
      "text/plain": [
       "    platform  restaurant_count\n",
       "0  Deliveroo              2716\n",
       "1   UberEats              2729\n",
       "2   Takeaway              4071"
      ]
     },
     "execution_count": 7,
     "metadata": {},
     "output_type": "execute_result"
    }
   ],
   "source": [
    "# Query to execute\n",
    "query = \"\"\"\n",
    "SELECT 'Deliveroo' AS platform, COUNT(*) AS restaurant_count\n",
    "FROM main.restaurants\n",
    "\n",
    "UNION ALL\n",
    "\n",
    "SELECT 'UberEats' AS platform, COUNT(*) AS restaurant_count\n",
    "FROM ubereats_db.restaurants\n",
    "\n",
    "UNION ALL\n",
    "\n",
    "SELECT 'Takeaway' AS platform, COUNT(*) AS restaurant_count\n",
    "FROM takeaway_db.restaurants; \n",
    "\"\"\"\n",
    "\n",
    "# Execute the query\n",
    "cursor = conn.cursor()\n",
    "cursor.execute(query)\n",
    "\n",
    "# Fetch the results\n",
    "columns = [description[0] for description in cursor.description]  # Extract column names\n",
    "results = cursor.fetchall()  # Fetch all rows\n",
    "\n",
    "# Convert to a pandas DataFrame\n",
    "df = pd.DataFrame(results, columns=columns)\n",
    "\n",
    "# Display the DataFrame\n",
    "df  # Display as output in the notebook\n"
   ]
  },
  {
   "cell_type": "code",
   "execution_count": 8,
   "metadata": {},
   "outputs": [
    {
     "ename": "ProgrammingError",
     "evalue": "You can only execute one statement at a time.",
     "output_type": "error",
     "traceback": [
      "\u001b[1;31m---------------------------------------------------------------------------\u001b[0m",
      "\u001b[1;31mProgrammingError\u001b[0m                          Traceback (most recent call last)",
      "Cell \u001b[1;32mIn[8], line 38\u001b[0m\n\u001b[0;32m     36\u001b[0m \u001b[38;5;66;03m# Execute the query\u001b[39;00m\n\u001b[0;32m     37\u001b[0m cursor \u001b[38;5;241m=\u001b[39m conn\u001b[38;5;241m.\u001b[39mcursor()\n\u001b[1;32m---> 38\u001b[0m \u001b[43mcursor\u001b[49m\u001b[38;5;241;43m.\u001b[39;49m\u001b[43mexecute\u001b[49m\u001b[43m(\u001b[49m\u001b[43mquery2\u001b[49m\u001b[43m)\u001b[49m\n\u001b[0;32m     40\u001b[0m \u001b[38;5;66;03m# Fetch the results\u001b[39;00m\n\u001b[0;32m     41\u001b[0m columns \u001b[38;5;241m=\u001b[39m [description[\u001b[38;5;241m0\u001b[39m] \u001b[38;5;28;01mfor\u001b[39;00m description \u001b[38;5;129;01min\u001b[39;00m cursor\u001b[38;5;241m.\u001b[39mdescription]  \u001b[38;5;66;03m# Extract column names\u001b[39;00m\n",
      "\u001b[1;31mProgrammingError\u001b[0m: You can only execute one statement at a time."
     ]
    }
   ],
   "source": [
    "query2=\"\"\"\n",
    "SELECT 'Deliveroo' AS platform, COUNT(*) AS total_restaurants\n",
    "FROM main.restaurants\n",
    "UNION ALL\n",
    "SELECT 'UberEats' AS platform, COUNT(*) AS total_restaurants\n",
    "FROM ubereats_db.restaurants\n",
    "UNION ALL\n",
    "SELECT 'Takeaway' AS platform, COUNT(*) AS total_restaurants\n",
    "FROM takeaway_db.restaurants;\n",
    "\n",
    "SELECT d.name AS restaurant_name, 'Deliveroo' AS platform\n",
    "FROM main.restaurants AS d\n",
    "WHERE EXISTS (\n",
    "    SELECT 1\n",
    "    FROM ubereats_db.restaurants AS u\n",
    "    WHERE u.title = d.name\n",
    ")\n",
    "UNION ALL\n",
    "SELECT u.title AS restaurant_name, 'UberEats' AS platform\n",
    "FROM ubereats_db.restaurants AS u\n",
    "WHERE EXISTS (\n",
    "    SELECT 1\n",
    "    FROM takeaway_db.restaurants AS t\n",
    "    WHERE t.name = u.title\n",
    ")\n",
    "UNION ALL\n",
    "SELECT t.name AS restaurant_name, 'Takeaway' AS platform\n",
    "FROM takeaway_db.restaurants AS t\n",
    "WHERE EXISTS (\n",
    "    SELECT 1\n",
    "    FROM main.restaurants AS d\n",
    "    WHERE d.name = t.name\n",
    ");\n",
    "\"\"\"\n",
    "\n",
    "# Execute the query\n",
    "cursor = conn.cursor()\n",
    "cursor.execute(query2)\n",
    "\n",
    "# Fetch the results\n",
    "columns = [description[0] for description in cursor.description]  # Extract column names\n",
    "results = cursor.fetchall()  # Fetch all rows\n",
    "\n",
    "# Convert to a pandas DataFrame\n",
    "df = pd.DataFrame(results, columns=columns)\n",
    "\n",
    "# Display the DataFrame\n",
    "df  # Display as output in the notebook"
   ]
  }
 ],
 "metadata": {
  "kernelspec": {
   "display_name": "Python 3",
   "language": "python",
   "name": "python3"
  },
  "language_info": {
   "codemirror_mode": {
    "name": "ipython",
    "version": 3
   },
   "file_extension": ".py",
   "mimetype": "text/x-python",
   "name": "python",
   "nbconvert_exporter": "python",
   "pygments_lexer": "ipython3",
   "version": "3.11.9"
  }
 },
 "nbformat": 4,
 "nbformat_minor": 2
}
